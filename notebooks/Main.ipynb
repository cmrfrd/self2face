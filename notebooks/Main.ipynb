{
 "cells": [
  {
   "cell_type": "markdown",
   "metadata": {},
   "source": [
    "## Welcome to main!\n",
    "\n",
    "By: Alex Comerford (alexanderjcomerford@gmail.com)\n",
    "\n",
    "This notebook serves to link the following three notebook packages through a single interface"
   ]
  },
  {
   "cell_type": "markdown",
   "metadata": {},
   "source": [
    "## Package 1: Face Detection\n",
    "\n",
    "In this package we will create models to designed purely to detect faces faces from images. This is the main building block of the other two packages. \n",
    "\n",
    "<img src=\"https://raw.githubusercontent.com/abars/YoloKerasFaceDetection/master/pretrain/demo.jpg\" width=\"400\" height=\"200\" />"
   ]
  },
  {
   "cell_type": "markdown",
   "metadata": {},
   "source": [
    "## Package 2: Face Landmarks\n",
    "\n",
    "This package is designed to establish positional landmarks from images of faces. This is the primary building block of the last model."
   ]
  },
  {
   "cell_type": "markdown",
   "metadata": {},
   "source": [
    "![image](https://i.stack.imgur.com/9bUgR.png)"
   ]
  },
  {
   "cell_type": "markdown",
   "metadata": {},
   "source": [
    "## Package 3: Face Generation\n",
    "\n",
    "In this package we be using pairings of (facial_landmark , original_image) and use a method similar to [pix2pix]() to \"transform\" new images from facial_landmark(s) that look \"like\" the original_image(s)\n",
    "\n",
    "![](./FaceGeneration/pics/Selection_0001.png)"
   ]
  },
  {
   "cell_type": "code",
   "execution_count": null,
   "metadata": {},
   "outputs": [],
   "source": []
  }
 ],
 "metadata": {
  "kernelspec": {
   "display_name": "Python 3",
   "language": "python",
   "name": "python3"
  },
  "language_info": {
   "codemirror_mode": {
    "name": "ipython",
    "version": 3
   },
   "file_extension": ".py",
   "mimetype": "text/x-python",
   "name": "python",
   "nbconvert_exporter": "python",
   "pygments_lexer": "ipython3",
   "version": "3.6.7"
  }
 },
 "nbformat": 4,
 "nbformat_minor": 2
}
