{
 "cells": [
  {
   "cell_type": "markdown",
   "metadata": {},
   "source": [
    "## Prepare data\n",
    "\n",
    "In this notebook we will be generically preparing data... from minio!!"
   ]
  },
  {
   "cell_type": "code",
   "execution_count": 1,
   "metadata": {},
   "outputs": [],
   "source": [
    "MINIO_SERVICE='minio.default.svc.cluster.local:9000'\n",
    "MINIO_ACCESS_KEY='self2face'\n",
    "MINIO_SECRET_KEY='self2face'"
   ]
  },
  {
   "cell_type": "code",
   "execution_count": 2,
   "metadata": {},
   "outputs": [
    {
     "name": "stdout",
     "output_type": "stream",
     "text": [
      "env: AWS_ACCESS_KEY_ID=self2face\n",
      "env: AWS_SECRET_ACCESS_KEY=self2face\n",
      "env: S3_ENDPOINT=minio.default.svc.cluster.local:9000\n",
      "env: AWS_ENDPOINT_URL=http://minio.default.svc.cluster.local:9000\n",
      "env: S3_USE_HTTPS=0\n",
      "env: S3_VERIFY_SSL=0\n",
      "env: BUCKET_NAME=test-data\n"
     ]
    }
   ],
   "source": [
    "get_ipython().run_line_magic(\"env\", \"AWS_ACCESS_KEY_ID=self2face\")\n",
    "get_ipython().run_line_magic(\"env\", \"AWS_SECRET_ACCESS_KEY=self2face\")\n",
    "get_ipython().run_line_magic(\"env\", \"S3_ENDPOINT=minio.default.svc.cluster.local:9000\")\n",
    "get_ipython().run_line_magic(\"env\", \"AWS_ENDPOINT_URL=http://minio.default.svc.cluster.local:9000\")\n",
    "get_ipython().run_line_magic(\"env\", \"S3_USE_HTTPS=0\")\n",
    "get_ipython().run_line_magic(\"env\", \"S3_VERIFY_SSL=0\")\n",
    "get_ipython().run_line_magic(\"env\", \"BUCKET_NAME=test-data\")"
   ]
  },
  {
   "cell_type": "code",
   "execution_count": 3,
   "metadata": {},
   "outputs": [],
   "source": [
    "class dotdict(dict):\n",
    "    \"\"\"dot.notation access to dictionary attributes\"\"\"\n",
    "    __getattr__ = dict.get\n",
    "    __setattr__ = dict.__setitem__\n",
    "    __delattr__ = dict.__delitem__"
   ]
  },
  {
   "cell_type": "code",
   "execution_count": 4,
   "metadata": {},
   "outputs": [],
   "source": [
    "import os\n",
    "import glob\n",
    "import enum\n",
    "import tarfile\n",
    "\n",
    "import cv2\n",
    "import numpy as np\n",
    "from PIL import Image\n",
    "from minio import Minio\n",
    "import tensorflow_datasets.public_api as tfds"
   ]
  },
  {
   "cell_type": "code",
   "execution_count": 5,
   "metadata": {},
   "outputs": [
    {
     "name": "stdout",
     "output_type": "stream",
     "text": [
      "test-data 2019-05-31 03:58:41.702000+00:00\n"
     ]
    },
    {
     "ename": "NameError",
     "evalue": "name 'get_name' is not defined",
     "output_type": "error",
     "traceback": [
      "\u001b[0;31m---------------------------------------------------------------------------\u001b[0m",
      "\u001b[0;31mNameError\u001b[0m                                 Traceback (most recent call last)",
      "\u001b[0;32m<ipython-input-5-f063a7618ab5>\u001b[0m in \u001b[0;36m<module>\u001b[0;34m\u001b[0m\n\u001b[1;32m      9\u001b[0m \u001b[0;32mfor\u001b[0m \u001b[0mbucket\u001b[0m \u001b[0;32min\u001b[0m \u001b[0mbuckets\u001b[0m\u001b[0;34m:\u001b[0m\u001b[0;34m\u001b[0m\u001b[0;34m\u001b[0m\u001b[0m\n\u001b[1;32m     10\u001b[0m     \u001b[0mprint\u001b[0m\u001b[0;34m(\u001b[0m\u001b[0mbucket\u001b[0m\u001b[0;34m.\u001b[0m\u001b[0mname\u001b[0m\u001b[0;34m,\u001b[0m \u001b[0mbucket\u001b[0m\u001b[0;34m.\u001b[0m\u001b[0mcreation_date\u001b[0m\u001b[0;34m)\u001b[0m\u001b[0;34m\u001b[0m\u001b[0;34m\u001b[0m\u001b[0m\n\u001b[0;32m---> 11\u001b[0;31m     \u001b[0mprint\u001b[0m\u001b[0;34m(\u001b[0m\u001b[0mlist\u001b[0m\u001b[0;34m(\u001b[0m\u001b[0mmap\u001b[0m\u001b[0;34m(\u001b[0m\u001b[0mget_name\u001b[0m\u001b[0;34m,\u001b[0m \u001b[0mclient\u001b[0m\u001b[0;34m.\u001b[0m\u001b[0mlist_objects_v2\u001b[0m\u001b[0;34m(\u001b[0m\u001b[0;34m\"test-data\"\u001b[0m\u001b[0;34m,\u001b[0m \u001b[0;34m'/'\u001b[0m\u001b[0;34m,\u001b[0m \u001b[0mrecursive\u001b[0m\u001b[0;34m=\u001b[0m\u001b[0;32mTrue\u001b[0m\u001b[0;34m)\u001b[0m\u001b[0;34m)\u001b[0m\u001b[0;34m)\u001b[0m\u001b[0;34m)\u001b[0m\u001b[0;34m\u001b[0m\u001b[0;34m\u001b[0m\u001b[0m\n\u001b[0m",
      "\u001b[0;31mNameError\u001b[0m: name 'get_name' is not defined"
     ]
    }
   ],
   "source": [
    "# servicename.namespace.svc.cluster.local\n",
    "client = Minio('minio.default.svc.cluster.local:9000',\n",
    "               access_key='self2face',\n",
    "               secret_key='self2face',\n",
    "               secure=False)\n",
    "\n",
    "buckets = client.list_buckets()\n",
    "\n",
    "for bucket in buckets:\n",
    "    print(bucket.name, bucket.creation_date)\n",
    "    print(list(map(get_name, client.list_objects_v2(\"test-data\", '/', recursive=True))))"
   ]
  },
  {
   "cell_type": "code",
   "execution_count": null,
   "metadata": {},
   "outputs": [],
   "source": [
    "# get_name = lambda object: object.object_name\n",
    "# names = map(get_name, client.list_objects_v2(\"test-data\", '/', recursive=True))\n",
    "# for err in client.remove_objects(\"test-data\", names):\n",
    "#     print(\"Deletion Error: {}\".format(err))\n",
    "# client.remove_bucket(\"test-data\")\n",
    "\n",
    "# client.make_bucket(\"test-data\",\"us-east-1\")\n",
    "# client.fput_object('test-data','asdf.jpg','./data/extracted/TAR_GZ.originalPics.tar.gz/2002/07/19/big/img_130.jpg')"
   ]
  },
  {
   "cell_type": "code",
   "execution_count": null,
   "metadata": {},
   "outputs": [],
   "source": []
  },
  {
   "cell_type": "markdown",
   "metadata": {},
   "source": [
    "## Utility functions"
   ]
  },
  {
   "cell_type": "code",
   "execution_count": 6,
   "metadata": {},
   "outputs": [],
   "source": [
    "normalize_string_line = lambda line:str(line.decode('utf-8').strip())"
   ]
  },
  {
   "cell_type": "code",
   "execution_count": 7,
   "metadata": {},
   "outputs": [],
   "source": [
    "def get_file_from_tar(filepath, tarpath):\n",
    "    '''Given a tarpath extract a file from tar'''\n",
    "    tf = tarfile.open(tarpath)\n",
    "    return tf.extractfile(filepath)"
   ]
  },
  {
   "cell_type": "code",
   "execution_count": 8,
   "metadata": {},
   "outputs": [],
   "source": [
    "def file_to_image(fileobj):\n",
    "    '''Given a file obj, attempt to create an Image'''\n",
    "    nparr = np.fromstring(fileobj.read(), np.uint8)\n",
    "    img_np = cv2.cvtColor(cv2.imdecode(nparr, 1), cv2.COLOR_BGR2RGB)\n",
    "    return Image.fromarray(img_np)"
   ]
  },
  {
   "cell_type": "code",
   "execution_count": 9,
   "metadata": {},
   "outputs": [],
   "source": [
    "def latest_dir(input_dir):\n",
    "    return max(glob.glob(os.path.join(input_dir, '*/')), key=os.path.getmtime)"
   ]
  },
  {
   "cell_type": "code",
   "execution_count": 10,
   "metadata": {},
   "outputs": [],
   "source": [
    "def search_download_path(url, base_dir=\"./data\"):\n",
    "    base_download_filename = os.path.basename(url)\n",
    "    for (dirpath, dirnames, filenames) in os.walk(base_dir):\n",
    "        if base_download_filename in filenames:\n",
    "            downloaded_filepath = os.path.join(dirpath, filenames[0])\n",
    "            break\n",
    "    return downloaded_filepath"
   ]
  },
  {
   "cell_type": "markdown",
   "metadata": {},
   "source": [
    "## FDDB specific functions"
   ]
  },
  {
   "cell_type": "code",
   "execution_count": 11,
   "metadata": {},
   "outputs": [],
   "source": [
    "def image_ellipse_to_box(image, major_axis_radius, minor_axis_radius, angle, center_x, center_y, detection_score):\n",
    "    '''Given a PIL image and ellipse information, return a dict with bounding box information'''\n",
    "    \n",
    "    imagew=image.size[1]\n",
    "    imageh=image.size[0]\n",
    "    box = dotdict(\n",
    "        x=1.0*center_x/imagew,\n",
    "        y=1.0*center_y/imageh,\n",
    "        w=1.0*minor_axis_radius*2/imagew,\n",
    "        h=1.0*major_axis_radius*2/imageh,\n",
    "        category=0\n",
    "    )\n",
    "    \n",
    "    if box.w>0 and box.h>0 and box.x-box.w/2>=0 and\\\n",
    "       box.y-box.h/2>=0 and box.x+box.w/2<=1 and box.y+box.h/2<=1:\n",
    "        return box\n",
    "    else:\n",
    "        print(\"Invalid position removed \"+str(box.x)+\" \"+str(box.y)+\" \"+str(box.w)+\" \"+str(box.h))\n",
    "        return False"
   ]
  },
  {
   "cell_type": "markdown",
   "metadata": {},
   "source": [
    "## Dataset!"
   ]
  },
  {
   "cell_type": "code",
   "execution_count": 12,
   "metadata": {},
   "outputs": [],
   "source": [
    "class MyDataset(tfds.core.GeneratorBasedBuilder):\n",
    "    \"\"\"Short description of my dataset.\"\"\"\n",
    "    \n",
    "    class FDDB_Parse_State(enum.Enum):\n",
    "        '''States of fddb dataset annotations'''\n",
    "        FILEPATH = 1\n",
    "        NUMFACES = 2\n",
    "        FACELOCATION = 3\n",
    "        \n",
    "    FDDB_DOWNLOAD_URLS={\n",
    "        \"images\":\"http://tamaraberg.com/faceDataset/originalPics.tar.gz\",\n",
    "        \"annotations\":\"http://vis-www.cs.umass.edu/fddb/FDDB-folds.tgz\"\n",
    "    }\n",
    "\n",
    "    VERSION = tfds.core.Version('0.0.0')\n",
    "    \n",
    "    def __init__(self, download_local, *args, **kwargs):\n",
    "        super(MyDataset, self).__init__(*args, *kwargs)\n",
    "        self.download_local = download_local\n",
    "        \n",
    "    def _info(self):\n",
    "        return tfds.core.DatasetInfo(\n",
    "            builder=self,\n",
    "            features=tfds.features.FeaturesDict({\n",
    "                \"image\": tfds.features.Image(),\n",
    "                \"bbox\": tfds.features.BBoxFeature()\n",
    "            }),\n",
    "            supervised_keys=(\"image\", \"bbox\")\n",
    "        )\n",
    "    \n",
    "    def generate_fddb_json_annotations(self, annotations_file_content, images_tarfile):\n",
    "        '''Generator of json annotations for fddb dataset'''\n",
    "\n",
    "        ## Define base dict, state variable, and first line\n",
    "        base_json_annotation = dotdict()\n",
    "        current_state = self.FDDB_Parse_State.FILEPATH\n",
    "        line = normalize_string_line(annotations_file_content.readline())\n",
    "\n",
    "        ## Iter line until empty file\n",
    "        while line:\n",
    "\n",
    "            if current_state == self.FDDB_Parse_State.FILEPATH:\n",
    "                image = file_to_image(images_tarfile.extract(line + \".jpg\"))\n",
    "                base_json_annotation['file'] = line + \".jpg\"\n",
    "                base_json_annotation['imagew'] = image.size[1]\n",
    "                base_json_annotation['imageh'] = image.size[0]            \n",
    "                current_state = self.FDDB_Parse_State.NUMFACES\n",
    "\n",
    "            elif current_state == self.FDDB_Parse_State.NUMFACES:\n",
    "                face_locations = []\n",
    "                num_faces = int(line)\n",
    "                current_state = self.FDDB_Parse_State.FACELOCATION\n",
    "\n",
    "            elif current_state == self.FDDB_Parse_State.FACELOCATION:\n",
    "                if num_faces > 0:\n",
    "                    face_location_args = map(float,line.split())\n",
    "                    bbox = image_ellipse_to_box(image, *face_location_args)\n",
    "                    if bbox: face_locations.append(bbox)\n",
    "                    num_faces -= 1\n",
    "                else:\n",
    "                    if len(face_locations):\n",
    "                        yield dotdict({\n",
    "                            **base_json_annotation, \n",
    "                            **{\"face_locations\":face_locations}})                \n",
    "                    current_state = self.FDDB_Parse_State.FILEPATH\n",
    "                    continue\n",
    "\n",
    "            line = normalize_string_line(annotations_file_content.readline())\n",
    "            \n",
    "    def extract_and_upload(self):\n",
    "\n",
    "        images_tf = tarfile.open(search_download_path(self.FDDB_DOWNLOAD_URLS[\"images\"]))\n",
    "        annotations_tf = tarfile.open(search_download_path(self.FDDB_DOWNLOAD_URLS[\"annotations\"]))\n",
    "        \n",
    "        for annotation_f in filter(lambda tfn:\"ellipse\" in tfn.name, annotations_tf):\n",
    "            for box in self.generate_fddb_json_annotations(annotations_tf.extractfile(annotation_f), images_tf):\n",
    "                print(box)\n",
    "\n",
    "    def _split_generators(self, dl_manager):\n",
    "        try:\n",
    "            dl_paths = dl_manager.download(self.FDDB_DOWNLOAD_URLS)\n",
    "        except tfds.download.download_manager.NonMatchingChecksumError:\n",
    "            pass\n",
    "        \n",
    "        return self.extract_and_upload()\n",
    "        \n",
    "    def _generate_examples(self):\n",
    "        # Yields examples from the dataset\n",
    "        pass  # TODO"
   ]
  },
  {
   "cell_type": "code",
   "execution_count": 13,
   "metadata": {},
   "outputs": [
    {
     "name": "stdout",
     "output_type": "stream",
     "text": [
      "\u001b[1mDownloading and preparing dataset my_dataset (?? GiB) to /home/jovyan/tensorflow_datasets/my_dataset/0.0.0...\u001b[0m\n"
     ]
    },
    {
     "data": {
      "application/vnd.jupyter.widget-view+json": {
       "model_id": "b43b3078e91141509d37201cf8a3c631",
       "version_major": 2,
       "version_minor": 0
      },
      "text/plain": [
       "HBox(children=(IntProgress(value=1, bar_style='info', description='Dl Completed...', max=1, style=ProgressStyl…"
      ]
     },
     "metadata": {},
     "output_type": "display_data"
    },
    {
     "data": {
      "application/vnd.jupyter.widget-view+json": {
       "model_id": "a7f5d1e69c82436e8b9ac23598893b57",
       "version_major": 2,
       "version_minor": 0
      },
      "text/plain": [
       "HBox(children=(IntProgress(value=1, bar_style='info', description='Dl Size...', max=1, style=ProgressStyle(des…"
      ]
     },
     "metadata": {},
     "output_type": "display_data"
    },
    {
     "name": "stdout",
     "output_type": "stream",
     "text": [
      "\n"
     ]
    },
    {
     "ename": "AttributeError",
     "evalue": "'NoneType' object has no attribute 'read'",
     "output_type": "error",
     "traceback": [
      "\u001b[0;31m---------------------------------------------------------------------------\u001b[0m",
      "\u001b[0;31mAttributeError\u001b[0m                            Traceback (most recent call last)",
      "\u001b[0;32m<ipython-input-13-c461ecb65f4d>\u001b[0m in \u001b[0;36m<module>\u001b[0;34m\u001b[0m\n\u001b[1;32m      1\u001b[0m \u001b[0mmy_builder\u001b[0m \u001b[0;34m=\u001b[0m \u001b[0mtfds\u001b[0m\u001b[0;34m.\u001b[0m\u001b[0mbuilder\u001b[0m\u001b[0;34m(\u001b[0m\u001b[0;34m\"my_dataset\"\u001b[0m\u001b[0;34m,\u001b[0m \u001b[0mdownload_local\u001b[0m\u001b[0;34m=\u001b[0m\u001b[0;32mFalse\u001b[0m\u001b[0;34m)\u001b[0m\u001b[0;34m\u001b[0m\u001b[0;34m\u001b[0m\u001b[0m\n\u001b[1;32m      2\u001b[0m my_builder.download_and_prepare(\n\u001b[0;32m----> 3\u001b[0;31m     download_dir=os.path.join(os.getcwd(),\"data/\"))\n\u001b[0m",
      "\u001b[0;32m/opt/conda/envs/self2face-gpu/lib/python3.6/site-packages/tensorflow_datasets/core/api_utils.py\u001b[0m in \u001b[0;36mdisallow_positional_args_dec\u001b[0;34m(fn, instance, args, kwargs)\u001b[0m\n\u001b[1;32m     50\u001b[0m     \u001b[0m_check_no_positional\u001b[0m\u001b[0;34m(\u001b[0m\u001b[0mfn\u001b[0m\u001b[0;34m,\u001b[0m \u001b[0margs\u001b[0m\u001b[0;34m,\u001b[0m \u001b[0mismethod\u001b[0m\u001b[0;34m,\u001b[0m \u001b[0mallowed\u001b[0m\u001b[0;34m=\u001b[0m\u001b[0mallowed\u001b[0m\u001b[0;34m)\u001b[0m\u001b[0;34m\u001b[0m\u001b[0;34m\u001b[0m\u001b[0m\n\u001b[1;32m     51\u001b[0m     \u001b[0m_check_required\u001b[0m\u001b[0;34m(\u001b[0m\u001b[0mfn\u001b[0m\u001b[0;34m,\u001b[0m \u001b[0mkwargs\u001b[0m\u001b[0;34m)\u001b[0m\u001b[0;34m\u001b[0m\u001b[0;34m\u001b[0m\u001b[0m\n\u001b[0;32m---> 52\u001b[0;31m     \u001b[0;32mreturn\u001b[0m \u001b[0mfn\u001b[0m\u001b[0;34m(\u001b[0m\u001b[0;34m*\u001b[0m\u001b[0margs\u001b[0m\u001b[0;34m,\u001b[0m \u001b[0;34m**\u001b[0m\u001b[0mkwargs\u001b[0m\u001b[0;34m)\u001b[0m\u001b[0;34m\u001b[0m\u001b[0;34m\u001b[0m\u001b[0m\n\u001b[0m\u001b[1;32m     53\u001b[0m \u001b[0;34m\u001b[0m\u001b[0m\n\u001b[1;32m     54\u001b[0m   \u001b[0;32mreturn\u001b[0m \u001b[0mdisallow_positional_args_dec\u001b[0m\u001b[0;34m(\u001b[0m\u001b[0mwrapped\u001b[0m\u001b[0;34m)\u001b[0m  \u001b[0;31m# pylint: disable=no-value-for-parameter\u001b[0m\u001b[0;34m\u001b[0m\u001b[0;34m\u001b[0m\u001b[0m\n",
      "\u001b[0;32m/opt/conda/envs/self2face-gpu/lib/python3.6/site-packages/tensorflow_datasets/core/dataset_builder.py\u001b[0m in \u001b[0;36mdownload_and_prepare\u001b[0;34m(self, download_dir, download_config)\u001b[0m\n\u001b[1;32m    248\u001b[0m         self._download_and_prepare(\n\u001b[1;32m    249\u001b[0m             \u001b[0mdl_manager\u001b[0m\u001b[0;34m=\u001b[0m\u001b[0mdl_manager\u001b[0m\u001b[0;34m,\u001b[0m\u001b[0;34m\u001b[0m\u001b[0;34m\u001b[0m\u001b[0m\n\u001b[0;32m--> 250\u001b[0;31m             download_config=download_config)\n\u001b[0m\u001b[1;32m    251\u001b[0m \u001b[0;34m\u001b[0m\u001b[0m\n\u001b[1;32m    252\u001b[0m         \u001b[0;31m# NOTE: If modifying the lines below to put additional information in\u001b[0m\u001b[0;34m\u001b[0m\u001b[0;34m\u001b[0m\u001b[0;34m\u001b[0m\u001b[0m\n",
      "\u001b[0;32m/opt/conda/envs/self2face-gpu/lib/python3.6/site-packages/tensorflow_datasets/core/dataset_builder.py\u001b[0m in \u001b[0;36m_download_and_prepare\u001b[0;34m(self, dl_manager, download_config)\u001b[0m\n\u001b[1;32m    804\u001b[0m     super(GeneratorBasedBuilder, self)._download_and_prepare(\n\u001b[1;32m    805\u001b[0m         \u001b[0mdl_manager\u001b[0m\u001b[0;34m=\u001b[0m\u001b[0mdl_manager\u001b[0m\u001b[0;34m,\u001b[0m\u001b[0;34m\u001b[0m\u001b[0;34m\u001b[0m\u001b[0m\n\u001b[0;32m--> 806\u001b[0;31m         \u001b[0mmax_examples_per_split\u001b[0m\u001b[0;34m=\u001b[0m\u001b[0mdownload_config\u001b[0m\u001b[0;34m.\u001b[0m\u001b[0mmax_examples_per_split\u001b[0m\u001b[0;34m,\u001b[0m\u001b[0;34m\u001b[0m\u001b[0;34m\u001b[0m\u001b[0m\n\u001b[0m\u001b[1;32m    807\u001b[0m     )\n\u001b[1;32m    808\u001b[0m \u001b[0;34m\u001b[0m\u001b[0m\n",
      "\u001b[0;32m/opt/conda/envs/self2face-gpu/lib/python3.6/site-packages/tensorflow_datasets/core/dataset_builder.py\u001b[0m in \u001b[0;36m_download_and_prepare\u001b[0;34m(self, dl_manager, **prepare_split_kwargs)\u001b[0m\n\u001b[1;32m    663\u001b[0m     \u001b[0;31m# Generating data for all splits\u001b[0m\u001b[0;34m\u001b[0m\u001b[0;34m\u001b[0m\u001b[0;34m\u001b[0m\u001b[0m\n\u001b[1;32m    664\u001b[0m     \u001b[0msplit_dict\u001b[0m \u001b[0;34m=\u001b[0m \u001b[0msplits_lib\u001b[0m\u001b[0;34m.\u001b[0m\u001b[0mSplitDict\u001b[0m\u001b[0;34m(\u001b[0m\u001b[0;34m)\u001b[0m\u001b[0;34m\u001b[0m\u001b[0;34m\u001b[0m\u001b[0m\n\u001b[0;32m--> 665\u001b[0;31m     \u001b[0;32mfor\u001b[0m \u001b[0msplit_generator\u001b[0m \u001b[0;32min\u001b[0m \u001b[0mself\u001b[0m\u001b[0;34m.\u001b[0m\u001b[0m_split_generators\u001b[0m\u001b[0;34m(\u001b[0m\u001b[0mdl_manager\u001b[0m\u001b[0;34m)\u001b[0m\u001b[0;34m:\u001b[0m\u001b[0;34m\u001b[0m\u001b[0;34m\u001b[0m\u001b[0m\n\u001b[0m\u001b[1;32m    666\u001b[0m       \u001b[0;31m# Keep track of all split_info\u001b[0m\u001b[0;34m\u001b[0m\u001b[0;34m\u001b[0m\u001b[0;34m\u001b[0m\u001b[0m\n\u001b[1;32m    667\u001b[0m       \u001b[0;32mfor\u001b[0m \u001b[0ms\u001b[0m \u001b[0;32min\u001b[0m \u001b[0msplit_generator\u001b[0m\u001b[0;34m.\u001b[0m\u001b[0msplit_info_list\u001b[0m\u001b[0;34m:\u001b[0m\u001b[0;34m\u001b[0m\u001b[0;34m\u001b[0m\u001b[0m\n",
      "\u001b[0;32m<ipython-input-12-929085fcf155>\u001b[0m in \u001b[0;36m_split_generators\u001b[0;34m(self, dl_manager)\u001b[0m\n\u001b[1;32m     83\u001b[0m             \u001b[0;32mpass\u001b[0m\u001b[0;34m\u001b[0m\u001b[0;34m\u001b[0m\u001b[0m\n\u001b[1;32m     84\u001b[0m \u001b[0;34m\u001b[0m\u001b[0m\n\u001b[0;32m---> 85\u001b[0;31m         \u001b[0;32mreturn\u001b[0m \u001b[0mself\u001b[0m\u001b[0;34m.\u001b[0m\u001b[0mextract_and_upload\u001b[0m\u001b[0;34m(\u001b[0m\u001b[0;34m)\u001b[0m\u001b[0;34m\u001b[0m\u001b[0;34m\u001b[0m\u001b[0m\n\u001b[0m\u001b[1;32m     86\u001b[0m \u001b[0;34m\u001b[0m\u001b[0m\n\u001b[1;32m     87\u001b[0m     \u001b[0;32mdef\u001b[0m \u001b[0m_generate_examples\u001b[0m\u001b[0;34m(\u001b[0m\u001b[0mself\u001b[0m\u001b[0;34m)\u001b[0m\u001b[0;34m:\u001b[0m\u001b[0;34m\u001b[0m\u001b[0;34m\u001b[0m\u001b[0m\n",
      "\u001b[0;32m<ipython-input-12-929085fcf155>\u001b[0m in \u001b[0;36mextract_and_upload\u001b[0;34m(self)\u001b[0m\n\u001b[1;32m     74\u001b[0m \u001b[0;34m\u001b[0m\u001b[0m\n\u001b[1;32m     75\u001b[0m         \u001b[0;32mfor\u001b[0m \u001b[0mannotation_f\u001b[0m \u001b[0;32min\u001b[0m \u001b[0mfilter\u001b[0m\u001b[0;34m(\u001b[0m\u001b[0;32mlambda\u001b[0m \u001b[0mtfn\u001b[0m\u001b[0;34m:\u001b[0m\u001b[0;34m\"ellipse\"\u001b[0m \u001b[0;32min\u001b[0m \u001b[0mtfn\u001b[0m\u001b[0;34m.\u001b[0m\u001b[0mname\u001b[0m\u001b[0;34m,\u001b[0m \u001b[0mannotations_tf\u001b[0m\u001b[0;34m)\u001b[0m\u001b[0;34m:\u001b[0m\u001b[0;34m\u001b[0m\u001b[0;34m\u001b[0m\u001b[0m\n\u001b[0;32m---> 76\u001b[0;31m             \u001b[0;32mfor\u001b[0m \u001b[0mbox\u001b[0m \u001b[0;32min\u001b[0m \u001b[0mself\u001b[0m\u001b[0;34m.\u001b[0m\u001b[0mgenerate_fddb_json_annotations\u001b[0m\u001b[0;34m(\u001b[0m\u001b[0mannotations_tf\u001b[0m\u001b[0;34m.\u001b[0m\u001b[0mextractfile\u001b[0m\u001b[0;34m(\u001b[0m\u001b[0mannotation_f\u001b[0m\u001b[0;34m)\u001b[0m\u001b[0;34m,\u001b[0m \u001b[0mimages_tf\u001b[0m\u001b[0;34m)\u001b[0m\u001b[0;34m:\u001b[0m\u001b[0;34m\u001b[0m\u001b[0;34m\u001b[0m\u001b[0m\n\u001b[0m\u001b[1;32m     77\u001b[0m                 \u001b[0mprint\u001b[0m\u001b[0;34m(\u001b[0m\u001b[0mbox\u001b[0m\u001b[0;34m)\u001b[0m\u001b[0;34m\u001b[0m\u001b[0;34m\u001b[0m\u001b[0m\n\u001b[1;32m     78\u001b[0m \u001b[0;34m\u001b[0m\u001b[0m\n",
      "\u001b[0;32m<ipython-input-12-929085fcf155>\u001b[0m in \u001b[0;36mgenerate_fddb_json_annotations\u001b[0;34m(self, annotations_file_content, images_tarfile)\u001b[0m\n\u001b[1;32m     41\u001b[0m \u001b[0;34m\u001b[0m\u001b[0m\n\u001b[1;32m     42\u001b[0m             \u001b[0;32mif\u001b[0m \u001b[0mcurrent_state\u001b[0m \u001b[0;34m==\u001b[0m \u001b[0mself\u001b[0m\u001b[0;34m.\u001b[0m\u001b[0mFDDB_Parse_State\u001b[0m\u001b[0;34m.\u001b[0m\u001b[0mFILEPATH\u001b[0m\u001b[0;34m:\u001b[0m\u001b[0;34m\u001b[0m\u001b[0;34m\u001b[0m\u001b[0m\n\u001b[0;32m---> 43\u001b[0;31m                 \u001b[0mimage\u001b[0m \u001b[0;34m=\u001b[0m \u001b[0mfile_to_image\u001b[0m\u001b[0;34m(\u001b[0m\u001b[0mimages_tarfile\u001b[0m\u001b[0;34m.\u001b[0m\u001b[0mextract\u001b[0m\u001b[0;34m(\u001b[0m\u001b[0mline\u001b[0m \u001b[0;34m+\u001b[0m \u001b[0;34m\".jpg\"\u001b[0m\u001b[0;34m)\u001b[0m\u001b[0;34m)\u001b[0m\u001b[0;34m\u001b[0m\u001b[0;34m\u001b[0m\u001b[0m\n\u001b[0m\u001b[1;32m     44\u001b[0m                 \u001b[0mbase_json_annotation\u001b[0m\u001b[0;34m[\u001b[0m\u001b[0;34m'file'\u001b[0m\u001b[0;34m]\u001b[0m \u001b[0;34m=\u001b[0m \u001b[0mline\u001b[0m \u001b[0;34m+\u001b[0m \u001b[0;34m\".jpg\"\u001b[0m\u001b[0;34m\u001b[0m\u001b[0;34m\u001b[0m\u001b[0m\n\u001b[1;32m     45\u001b[0m                 \u001b[0mbase_json_annotation\u001b[0m\u001b[0;34m[\u001b[0m\u001b[0;34m'imagew'\u001b[0m\u001b[0;34m]\u001b[0m \u001b[0;34m=\u001b[0m \u001b[0mimage\u001b[0m\u001b[0;34m.\u001b[0m\u001b[0msize\u001b[0m\u001b[0;34m[\u001b[0m\u001b[0;36m1\u001b[0m\u001b[0;34m]\u001b[0m\u001b[0;34m\u001b[0m\u001b[0;34m\u001b[0m\u001b[0m\n",
      "\u001b[0;32m<ipython-input-8-2f98f71d8852>\u001b[0m in \u001b[0;36mfile_to_image\u001b[0;34m(fileobj)\u001b[0m\n\u001b[1;32m      1\u001b[0m \u001b[0;32mdef\u001b[0m \u001b[0mfile_to_image\u001b[0m\u001b[0;34m(\u001b[0m\u001b[0mfileobj\u001b[0m\u001b[0;34m)\u001b[0m\u001b[0;34m:\u001b[0m\u001b[0;34m\u001b[0m\u001b[0;34m\u001b[0m\u001b[0m\n\u001b[1;32m      2\u001b[0m     \u001b[0;34m'''Given a file obj, attempt to create an Image'''\u001b[0m\u001b[0;34m\u001b[0m\u001b[0;34m\u001b[0m\u001b[0m\n\u001b[0;32m----> 3\u001b[0;31m     \u001b[0mnparr\u001b[0m \u001b[0;34m=\u001b[0m \u001b[0mnp\u001b[0m\u001b[0;34m.\u001b[0m\u001b[0mfromstring\u001b[0m\u001b[0;34m(\u001b[0m\u001b[0mfileobj\u001b[0m\u001b[0;34m.\u001b[0m\u001b[0mread\u001b[0m\u001b[0;34m(\u001b[0m\u001b[0;34m)\u001b[0m\u001b[0;34m,\u001b[0m \u001b[0mnp\u001b[0m\u001b[0;34m.\u001b[0m\u001b[0muint8\u001b[0m\u001b[0;34m)\u001b[0m\u001b[0;34m\u001b[0m\u001b[0;34m\u001b[0m\u001b[0m\n\u001b[0m\u001b[1;32m      4\u001b[0m     \u001b[0mimg_np\u001b[0m \u001b[0;34m=\u001b[0m \u001b[0mcv2\u001b[0m\u001b[0;34m.\u001b[0m\u001b[0mcvtColor\u001b[0m\u001b[0;34m(\u001b[0m\u001b[0mcv2\u001b[0m\u001b[0;34m.\u001b[0m\u001b[0mimdecode\u001b[0m\u001b[0;34m(\u001b[0m\u001b[0mnparr\u001b[0m\u001b[0;34m,\u001b[0m \u001b[0;36m1\u001b[0m\u001b[0;34m)\u001b[0m\u001b[0;34m,\u001b[0m \u001b[0mcv2\u001b[0m\u001b[0;34m.\u001b[0m\u001b[0mCOLOR_BGR2RGB\u001b[0m\u001b[0;34m)\u001b[0m\u001b[0;34m\u001b[0m\u001b[0;34m\u001b[0m\u001b[0m\n\u001b[1;32m      5\u001b[0m     \u001b[0;32mreturn\u001b[0m \u001b[0mImage\u001b[0m\u001b[0;34m.\u001b[0m\u001b[0mfromarray\u001b[0m\u001b[0;34m(\u001b[0m\u001b[0mimg_np\u001b[0m\u001b[0;34m)\u001b[0m\u001b[0;34m\u001b[0m\u001b[0;34m\u001b[0m\u001b[0m\n",
      "\u001b[0;31mAttributeError\u001b[0m: 'NoneType' object has no attribute 'read'"
     ]
    }
   ],
   "source": [
    "my_builder = tfds.builder(\"my_dataset\", download_local=False)\n",
    "my_builder.download_and_prepare(\n",
    "    download_dir=os.path.join(os.getcwd(),\"data/\"))"
   ]
  },
  {
   "cell_type": "code",
   "execution_count": null,
   "metadata": {},
   "outputs": [],
   "source": []
  },
  {
   "cell_type": "code",
   "execution_count": 30,
   "metadata": {},
   "outputs": [],
   "source": []
  },
  {
   "cell_type": "code",
   "execution_count": 32,
   "metadata": {},
   "outputs": [],
   "source": []
  },
  {
   "cell_type": "code",
   "execution_count": 47,
   "metadata": {},
   "outputs": [],
   "source": []
  },
  {
   "cell_type": "code",
   "execution_count": 48,
   "metadata": {},
   "outputs": [],
   "source": [
    "images = \"./data/tamaraberg.com_faceDataset_originalPics7kj66XsjMzQfGOnPP0c-LCTXdvVfD-_408NdmTA40GA.tar.gz.tmp.6188fcaf52904d60a9f8bc8c6d5530af/originalPics.tar.gz\"\n",
    "annotations = \"./data/FDDB-folds.tgz\""
   ]
  },
  {
   "cell_type": "code",
   "execution_count": 49,
   "metadata": {},
   "outputs": [
    {
     "name": "stderr",
     "output_type": "stream",
     "text": [
      "/opt/conda/envs/self2face-gpu/lib/python3.6/site-packages/ipykernel_launcher.py:3: DeprecationWarning: The binary mode of fromstring is deprecated, as it behaves surprisingly on unicode inputs. Use frombuffer instead\n",
      "  This is separate from the ipykernel package so we can avoid doing imports until\n"
     ]
    },
    {
     "name": "stdout",
     "output_type": "stream",
     "text": [
      "{'file': '2002/08/11/big/img_591.jpg', 'imagew': 431, 'imageh': 450, 'face_locations': [{'x': 0.625738747099768, 'y': 0.3595137777777778, 'w': 0.39698143851508116, 'h': 0.549259111111111, 'category': 0}]}\n",
      "Invalid position removed 1.1176862295081966 0.2616903140311804 0.284296393442623 0.3162274031180401\n",
      "{'file': '2002/08/26/big/img_265.jpg', 'imagew': 305, 'imageh': 449, 'face_locations': [{'x': 0.345081868852459, 'y': 0.1942294788418708, 'w': 0.2918785901639344, 'h': 0.3000615545657016, 'category': 0}, {'x': 0.6035111967213115, 'y': 0.28807483518930954, 'w': 0.17747198032786884, 'h': 0.18680120267260578, 'category': 0}]}\n",
      "{'file': '2002/07/19/big/img_423.jpg', 'imagew': 450, 'imageh': 449, 'face_locations': [{'x': 0.5675179977777778, 'y': 0.29792395768374164, 'w': 0.26390808444444447, 'h': 0.38788844097995545, 'category': 0}]}\n",
      "{'file': '2002/08/24/big/img_490.jpg', 'imagew': 450, 'imageh': 370, 'face_locations': [{'x': 0.32370154222222225, 'y': 0.2110837972972973, 'w': 0.15580811111111112, 'h': 0.295633, 'category': 0}]}\n",
      "Invalid position removed 0.06323073555555556 0.1034740989010989 0.1288888888888889 0.20384593956043956\n",
      "{'file': '2002/08/31/big/img_17676.jpg', 'imagew': 450, 'imageh': 364, 'face_locations': [{'x': 0.2500317777777778, 'y': 0.25374803296703297, 'w': 0.22148909333333333, 'h': 0.4373058351648352, 'category': 0}]}\n",
      "{'file': '2002/07/31/big/img_228.jpg', 'imagew': 450, 'imageh': 409, 'face_locations': [{'x': 0.2298494, 'y': 0.26370693398533007, 'w': 0.1469162977777778, 'h': 0.2690083031784841, 'category': 0}, {'x': 0.6562227333333334, 'y': 0.17025848166259167, 'w': 0.16277923555555557, 'h': 0.2906744547677262, 'category': 0}]}\n",
      "Invalid position removed 1.1189431479099679 0.12618055555555555 0.12220358199356912 0.11477172888888888\n",
      "Invalid position removed 1.3843767717041802 0.1293109222222222 0.07706169774919613 0.07140252444444443\n",
      "{'file': '2002/07/24/big/img_402.jpg', 'imagew': 311, 'imageh': 450, 'face_locations': [{'x': 0.387459807073955, 'y': 0.26222222222222225, 'w': 0.27009646302250806, 'h': 0.3517986666666667, 'category': 0}]}\n",
      "{'file': '2002/08/04/big/img_769.jpg', 'imagew': 450, 'imageh': 318, 'face_locations': [{'x': 0.19271806666666666, 'y': 0.3441742389937107, 'w': 0.28836032, 'h': 0.6444497106918239, 'category': 0}, {'x': 0.543262708888889, 'y': 0.49248098113207545, 'w': 0.22988928, 'h': 0.5586599685534591, 'category': 0}]}\n",
      "{'file': '2002/07/19/big/img_581.jpg', 'imagew': 450, 'imageh': 317, 'face_locations': [{'x': 0.34465200888888886, 'y': 0.5976361577287066, 'w': 0.3111887422222222, 'h': 0.649956858044164, 'category': 0}]}\n",
      "{'file': '2002/08/13/big/img_723.jpg', 'imagew': 449, 'imageh': 348, 'face_locations': [{'x': 0.3816186325167038, 'y': 0.5109117241379311, 'w': 0.39729579510022267, 'h': 0.6953736091954023, 'category': 0}]}\n",
      "Invalid position removed 0.39611111111111114 0.592375366568915 0.426848 0.8535338709677419\n",
      "{'file': '2002/08/12/big/img_821.jpg', 'imagew': 450, 'imageh': 341, 'face_locations': []}\n",
      "Invalid position removed 0.13876054421768708 0.355959756097561 0.2786408163265306 0.29243658536585365\n",
      "Invalid position removed 1.2679908163265308 0.2898575609756098 0.30662653061224493 0.30561512195121954\n",
      "Invalid position removed 1.0429027210884354 0.36903682926829273 0.19383809523809523 0.20283170731707317\n",
      "{'file': '2003/01/17/big/img_610.jpg', 'imagew': 294, 'imageh': 410, 'face_locations': [{'x': 0.6831057823129252, 'y': 0.25481853658536585, 'w': 0.3910319727891156, 'h': 0.3963492975609756, 'category': 0}, {'x': 0.5333972789115646, 'y': 0.3816558536585366, 'w': 0.24711360544217686, 'h': 0.2362653658536585, 'category': 0}, {'x': 0.19100204081632655, 'y': 0.2227739024390244, 'w': 0.2534272108843537, 'h': 0.25167463414634145, 'category': 0}]}\n",
      "Invalid position removed 1.1814625786163522 0.24176638 0.06536100628930817 0.06312553777777778\n",
      "{'file': '2002/08/13/big/img_1116.jpg', 'imagew': 318, 'imageh': 450, 'face_locations': [{'x': 0.6421783018867925, 'y': 0.24694112444444447, 'w': 0.3444477987421384, 'h': 0.3674808888888889, 'category': 0}]}\n",
      "Invalid position removed 1.0890310650887574 0.3776784444444444 0.2601169349112426 0.2974108177777778\n",
      "{'file': '2002/08/28/big/img_19238.jpg', 'imagew': 338, 'imageh': 450, 'face_locations': [{'x': 0.2601381656804734, 'y': 0.2172931111111111, 'w': 0.24978124852071007, 'h': 0.2766506711111111, 'category': 0}]}\n",
      "{'file': '2002/08/21/big/img_660.jpg', 'imagew': 450, 'imageh': 386, 'face_locations': [{'x': 0.41588711111111115, 'y': 0.38760751295336787, 'w': 0.26974533333333334, 'h': 0.48457512953367876, 'category': 0}]}\n",
      "{'file': '2002/08/14/big/img_607.jpg', 'imagew': 450, 'imageh': 293, 'face_locations': [{'x': 0.3288546666666667, 'y': 0.24653378839590442, 'w': 0.1835071111111111, 'h': 0.4200996587030717, 'category': 0}]}\n",
      "Invalid position removed 0.44883509316770187 0.19883555555555554 0.4303173913043478 0.4141151111111111\n",
      "Invalid position removed 1.091101242236025 0.24410400000000002 0.3393012422360248 0.39343955555555554\n",
      "{'file': '2002/08/05/big/img_3708.jpg', 'imagew': 322, 'imageh': 450, 'face_locations': []}\n",
      "{'file': '2002/08/19/big/img_511.jpg', 'imagew': 320, 'imageh': 449, 'face_locations': [{'x': 0.412220459375, 'y': 0.23262220712694878, 'w': 0.29773359374999997, 'h': 0.3326104677060133, 'category': 0}, {'x': 0.866898840625, 'y': 0.191983131403118, 'w': 0.23825445625000002, 'h': 0.25846775946547884, 'category': 0}]}\n",
      "Invalid position removed 1.0416885691823898 0.32054149111111113 0.280155893081761 0.2799076177777778\n",
      "{'file': '2002/08/07/big/img_1316.jpg', 'imagew': 318, 'imageh': 450, 'face_locations': [{'x': 0.37098127987421387, 'y': 0.16298436444444445, 'w': 0.23655970440251575, 'h': 0.25449910666666664, 'category': 0}]}\n",
      "Invalid position removed 0.259606543715847 0.10081941555555556 0.6638592076502732 0.82467372\n",
      "Invalid position removed 0.782912606557377 0.3757478355555555 0.5363365628415301 0.7323201022222222\n",
      "{'file': '2002/07/25/big/img_1047.jpg', 'imagew': 366, 'imageh': 450, 'face_locations': []}\n",
      "{'file': '2002/07/23/big/img_474.jpg', 'imagew': 450, 'imageh': 373, 'face_locations': [{'x': 0.41069321333333336, 'y': 0.27606213672922253, 'w': 0.2467085111111111, 'h': 0.49324810723860596, 'category': 0}, {'x': 0.6671237422222223, 'y': 0.3388355924932976, 'w': 0.21206526222222222, 'h': 0.41782068096514746, 'category': 0}]}\n",
      "Invalid position removed 1.1805883152542374 0.1801932066666667 0.29367202033898304 0.29222750666666664\n",
      "{'file': '2002/07/27/big/img_970.jpg', 'imagew': 295, 'imageh': 450, 'face_locations': [{'x': 0.48140455932203385, 'y': 0.16494085777777778, 'w': 0.30446402033898307, 'h': 0.2699522177777778, 'category': 0}]}\n",
      "{'file': '2002/09/02/big/img_15752.jpg', 'imagew': 374, 'imageh': 450, 'face_locations': [{'x': 0.6079919786096257, 'y': 0.24189733333333335, 'w': 0.28499679144385026, 'h': 0.35389541333333335, 'category': 0}]}\n",
      "Invalid position removed 0.8132612781954887 0.2171942222222222 0.38057293233082706 0.36071955555555557\n",
      "Invalid position removed 1.2606315789473683 0.39139466666666667 0.40303007518796996 0.36334\n",
      "{'file': '2002/09/01/big/img_16378.jpg', 'imagew': 266, 'imageh': 450, 'face_locations': [{'x': 0.3823966165413534, 'y': 0.32614133333333334, 'w': 0.39808421052631576, 'h': 0.32411244, 'category': 0}]}\n",
      "{'file': '2002/09/01/big/img_16189.jpg', 'imagew': 450, 'imageh': 371, 'face_locations': [{'x': 0.4742842222222222, 'y': 0.3283231805929919, 'w': 0.19954488888888888, 'h': 0.41765175202156335, 'category': 0}]}\n",
      "{'file': '2002/08/26/big/img_276.jpg', 'imagew': 450, 'imageh': 361, 'face_locations': [{'x': 0.4169538288888889, 'y': 0.4207868005540166, 'w': 0.307148, 'h': 0.6259717894736843, 'category': 0}]}\n",
      "{'file': '2002/07/24/big/img_518.jpg', 'imagew': 396, 'imageh': 450, 'face_locations': [{'x': 0.39162563383838384, 'y': 0.22789994, 'w': 0.305882303030303, 'h': 0.4028000666666667, 'category': 0}, {'x': 0.742768196969697, 'y': 0.23531211555555553, 'w': 0.29104891919191916, 'h': 0.3822145688888889, 'category': 0}]}\n",
      "Invalid position removed 0.08713433777777777 0.19725089736070384 0.20091515555555556 0.35942721994134896\n",
      "{'file': '2002/08/14/big/img_1027.jpg', 'imagew': 450, 'imageh': 341, 'face_locations': [{'x': 0.3539428866666667, 'y': 0.4965624633431085, 'w': 0.20384298222222222, 'h': 0.3889489677419355, 'category': 0}]}\n",
      "{'file': '2002/08/24/big/img_733.jpg', 'imagew': 450, 'imageh': 340, 'face_locations': [{'x': 0.4505155177777778, 'y': 0.42036433235294113, 'w': 0.3294637066666667, 'h': 0.6995888588235294, 'category': 0}]}\n",
      "{'file': '2002/08/15/big/img_249.jpg', 'imagew': 450, 'imageh': 352, 'face_locations': [{'x': 0.43370844444444445, 'y': 0.30663892045454544, 'w': 0.2557622222222222, 'h': 0.4666545454545455, 'category': 0}]}\n",
      "{'file': '2003/01/15/big/img_1371.jpg', 'imagew': 410, 'imageh': 325, 'face_locations': [{'x': 0.3840178048780488, 'y': 0.5165889230769231, 'w': 0.5402346341463414, 'h': 0.933580923076923, 'category': 0}]}\n",
      "Invalid position removed 1.1837618719512195 0.20330216 0.2184033048780488 0.23498118666666667\n",
      "Invalid position removed 1.3297235609756097 0.12245525777777778 0.11227496951219511 0.12433573333333332\n",
      "{'file': '2002/08/07/big/img_1348.jpg', 'imagew': 328, 'imageh': 450, 'face_locations': [{'x': 0.7214143201219512, 'y': 0.24984703777777778, 'w': 0.30215342682926827, 'h': 0.32292114222222223, 'category': 0}]}\n",
      "{'file': '2003/01/01/big/img_331.jpg', 'imagew': 450, 'imageh': 410, 'face_locations': [{'x': 0.42763129333333333, 'y': 0.23575439024390243, 'w': 0.25333333333333335, 'h': 0.4097560975609756, 'category': 0}, {'x': 0.21266209777777778, 'y': 0.3904556097560976, 'w': 0.21777777777777776, 'h': 0.37073170731707317, 'category': 0}]}\n",
      "Invalid position removed 0.34678063555555555 0.655430355987055 0.45183793333333333 1.0660424660194174\n",
      "{'file': '2002/08/23/big/img_536.jpg', 'imagew': 450, 'imageh': 309, 'face_locations': []}\n",
      "{'file': '2002/07/30/big/img_224.jpg', 'imagew': 383, 'imageh': 450, 'face_locations': [{'x': 0.8130654569190601, 'y': 0.25882438444444444, 'w': 0.19715731592689295, 'h': 0.2689329466666667, 'category': 0}]}\n",
      "Invalid position removed 0.32931926 0.6386658371335505 0.69349604 1.3547121302931595\n",
      "{'file': '2002/08/10/big/img_763.jpg', 'imagew': 450, 'imageh': 307, 'face_locations': []}\n",
      "{'file': '2002/08/21/big/img_293.jpg', 'imagew': 336, 'imageh': 450, 'face_locations': [{'x': 0.5492333333333332, 'y': 0.3177397777777778, 'w': 0.3952125, 'h': 0.43722044444444447, 'category': 0}]}\n",
      "{'file': '2002/08/15/big/img_1211.jpg', 'imagew': 323, 'imageh': 450, 'face_locations': [{'x': 0.41743281733746135, 'y': 0.2599553333333333, 'w': 0.3699876160990712, 'h': 0.3939417777777778, 'category': 0}]}\n",
      "Invalid position removed 0.25171377777777776 0.0244600583090379 0.11682488888888888 0.23712478134110787\n",
      "{'file': '2002/08/15/big/img_1194.jpg', 'imagew': 450, 'imageh': 343, 'face_locations': [{'x': 0.42170199999999997, 'y': 0.2027043731778426, 'w': 0.18092355555555556, 'h': 0.35400408163265307, 'category': 0}]}\n",
      "Invalid position removed 1.1262197411003236 0.2768965770171149 0.35733203883495146 0.44825770171149143\n",
      "{'file': '2003/01/15/big/img_390.jpg', 'imagew': 309, 'imageh': 409, 'face_locations': [{'x': 0.47505857605178, 'y': 0.28713300733496333, 'w': 0.40421229773462786, 'h': 0.4430347188264059, 'category': 0}]}\n",
      "{'file': '2002/08/06/big/img_2893.jpg', 'imagew': 450, 'imageh': 369, 'face_locations': [{'x': 0.4872276488888889, 'y': 0.2696142059620596, 'w': 0.18319348444444444, 'h': 0.3481029322493225, 'category': 0}]}\n",
      "Invalid position removed 0.05846347438752784 0.44485483870967746 0.18084810690423161 0.31948445747800586\n",
      "Invalid position removed 0.05147639198218263 0.24301964809384163 0.14618708240534523 0.2813425219941349\n",
      "{'file': '2002/08/17/big/img_691.jpg', 'imagew': 449, 'imageh': 341, 'face_locations': [{'x': 0.3595879732739421, 'y': 0.537524633431085, 'w': 0.16811536748329622, 'h': 0.3438098768328446, 'category': 0}, {'x': 0.4145, 'y': 0.3460818181818182, 'w': 0.1324271714922049, 'h': 0.24639882697947216, 'category': 0}, {'x': 0.16191603563474388, 'y': 0.3018782991202346, 'w': 0.12111447661469933, 'h': 0.2146513900293255, 'category': 0}, {'x': 0.505030289532294, 'y': 0.4505025513196481, 'w': 0.14426057906458797, 'h': 0.2626709677419355, 'category': 0}, {'x': 0.2892240534521158, 'y': 0.5443674486803519, 'w': 0.14518530066815144, 'h': 0.26680058651026395, 'category': 0}]}\n",
      "{'file': '2002/08/07/big/img_1695.jpg', 'imagew': 450, 'imageh': 318, 'face_locations': [{'x': 0.3384352222222222, 'y': 0.34332016981132074, 'w': 0.20242579111111111, 'h': 0.4526355283018868, 'category': 0}]}\n",
      "{'file': '2002/08/16/big/img_829.jpg', 'imagew': 450, 'imageh': 296, 'face_locations': [{'x': 0.3269666666666666, 'y': 0.3874108108108108, 'w': 0.23693111111111112, 'h': 0.6005452702702703, 'category': 0}]}\n",
      "{'file': '2002/07/25/big/img_201.jpg', 'imagew': 450, 'imageh': 320, 'face_locations': [{'x': 0.3570820755555556, 'y': 0.32220179375, 'w': 0.20364569777777777, 'h': 0.48254891874999994, 'category': 0}]}\n",
      "{'file': '2002/08/23/big/img_36.jpg', 'imagew': 449, 'imageh': 356, 'face_locations': [{'x': 0.4109172516703786, 'y': 0.6425481741573034, 'w': 0.1566236035634744, 'h': 0.2810010561797753, 'category': 0}]}\n",
      "{'file': '2003/01/15/big/img_763.jpg', 'imagew': 410, 'imageh': 361, 'face_locations': [{'x': 0.45937585365853656, 'y': 0.32119307479224374, 'w': 0.26797317073170734, 'h': 0.4679085872576177, 'category': 0}]}\n",
      "{'file': '2003/01/15/big/img_637.jpg', 'imagew': 410, 'imageh': 337, 'face_locations': [{'x': 0.3990904878048781, 'y': 0.6477394658753709, 'w': 0.26037853658536586, 'h': 0.5326807121661721, 'category': 0}]}\n",
      "{'file': '2002/08/22/big/img_592.jpg', 'imagew': 450, 'imageh': 298, 'face_locations': [{'x': 0.35563053777777776, 'y': 0.43237420805369126, 'w': 0.3038201511111111, 'h': 0.7921138926174497, 'category': 0}]}\n",
      "{'file': '2002/07/25/big/img_817.jpg', 'imagew': 450, 'imageh': 383, 'face_locations': [{'x': 0.3023152466666667, 'y': 0.5344088015665797, 'w': 0.15466258666666666, 'h': 0.2601755874673629, 'category': 0}, {'x': 0.6838318222222222, 'y': 0.6986187859007832, 'w': 0.16009342222222223, 'h': 0.27480899738903397, 'category': 0}]}\n",
      "{'file': '2003/01/15/big/img_1219.jpg', 'imagew': 303, 'imageh': 410, 'face_locations': [{'x': 0.6689887788778878, 'y': 0.2129619512195122, 'w': 0.2753689768976898, 'h': 0.3106078048780488, 'category': 0}]}\n",
      "{'file': '2002/08/05/big/img_3508.jpg', 'imagew': 449, 'imageh': 299, 'face_locations': [{'x': 0.2907867550111359, 'y': 0.31389609698996657, 'w': 0.1894431714922049, 'h': 0.4616751371237458, 'category': 0}]}\n",
      "Invalid position removed 0.30592044444444444 0.8066646666666667 0.5387146666666667 1.1817726666666666\n",
      "{'file': '2002/08/15/big/img_1108.jpg', 'imagew': 450, 'imageh': 300, 'face_locations': []}\n",
      "{'file': '2002/07/19/big/img_488.jpg', 'imagew': 377, 'imageh': 450, 'face_locations': [{'x': 0.3622170848806366, 'y': 0.42912174666666664, 'w': 0.2859638620689655, 'h': 0.3127799333333333, 'category': 0}, {'x': 0.734252875331565, 'y': 0.27382438666666664, 'w': 0.34815224403183026, 'h': 0.38398409333333333, 'category': 0}]}\n",
      "{'file': '2003/01/16/big/img_704.jpg', 'imagew': 409, 'imageh': 273, 'face_locations': [{'x': 0.22261442542787285, 'y': 0.44623260073260074, 'w': 0.22096234718826405, 'h': 0.5449531135531136, 'category': 0}]}\n",
      "{'file': '2003/01/13/big/img_1087.jpg', 'imagew': 362, 'imageh': 410, 'face_locations': [{'x': 0.5729173314917128, 'y': 0.1905122243902439, 'w': 0.2430939226519337, 'h': 0.32195121951219513, 'category': 0}]}\n",
      "{'file': '2002/08/10/big/img_670.jpg', 'imagew': 450, 'imageh': 395, 'face_locations': [{'x': 0.3818600733333333, 'y': 0.35153164556962024, 'w': 0.31736533333333333, 'h': 0.5369377215189873, 'category': 0}]}\n",
      "Invalid position removed 0.2990095111111111 0.7351725952380952 0.53977132 1.345741551020408\n",
      "{'file': '2002/07/24/big/img_104.jpg', 'imagew': 450, 'imageh': 294, 'face_locations': []}\n",
      "{'file': '2002/08/27/big/img_19823.jpg', 'imagew': 369, 'imageh': 450, 'face_locations': [{'x': 0.8784676178861789, 'y': 0.2582457111111111, 'w': 0.20596205962059622, 'h': 0.2875576311111111, 'category': 0}]}\n",
      "{'file': '2002/09/01/big/img_16229.jpg', 'imagew': 450, 'imageh': 393, 'face_locations': [{'x': 0.33004511555555555, 'y': 0.3450681933842239, 'w': 0.29583333333333334, 'h': 0.5346834402035624, 'category': 0}, {'x': 0.5876986688888889, 'y': 0.5214409669211196, 'w': 0.25460533333333335, 'h': 0.3966900763358779, 'category': 0}]}\n",
      "{'file': '2003/01/13/big/img_846.jpg', 'imagew': 409, 'imageh': 269, 'face_locations': [{'x': 0.31353101466992667, 'y': 0.5697196394052044, 'w': 0.3569682151589242, 'h': 0.8578423791821561, 'category': 0}]}\n",
      "{'file': '2002/08/04/big/img_412.jpg', 'imagew': 440, 'imageh': 450, 'face_locations': [{'x': 0.5327695318181819, 'y': 0.7067261866666668, 'w': 0.17778770454545456, 'h': 0.28094588444444446, 'category': 0}]}\n",
      "Invalid position removed 1.2085012207792207 0.12446504444444445 0.21183566883116883 0.20757649777777779\n",
      "Invalid position removed 1.376652344155844 0.44764118222222227 0.1826866103896104 0.1951044\n",
      "Invalid position removed 1.0675188831168831 0.1521018488888889 0.19170302597402597 0.17644677333333333\n",
      "Invalid position removed 0.9035899220779221 0.06495225111111111 0.1593826883116883 0.15913893333333334\n",
      "Invalid position removed 1.3353079253246753 0.06402396 0.13741327272727272 0.13420908888888888\n",
      "{'file': '2002/07/22/big/img_554.jpg', 'imagew': 308, 'imageh': 450, 'face_locations': [{'x': 0.17964361363636364, 'y': 0.10462170666666668, 'w': 0.187537512987013, 'h': 0.18835814222222222, 'category': 0}, {'x': 0.6967214253246754, 'y': 0.1517285733333333, 'w': 0.2105311103896104, 'h': 0.20433216444444444, 'category': 0}]}\n",
      "Invalid position removed 0.12506653777777776 0.1482598567164179 0.15714608888888887 0.33406548656716417\n",
      "{'file': '2002/08/12/big/img_331.jpg', 'imagew': 450, 'imageh': 335, 'face_locations': [{'x': 0.4312181822222222, 'y': 0.33368239104477615, 'w': 0.08664754666666667, 'h': 0.16015091940298506, 'category': 0}, {'x': 0.5977184177777778, 'y': 0.20980988059701491, 'w': 0.10271823555555555, 'h': 0.20381840597014927, 'category': 0}, {'x': 0.61101488, 'y': 0.5778094268656716, 'w': 0.0933141688888889, 'h': 0.19205731343283583, 'category': 0}]}\n",
      "{'file': '2002/08/02/big/img_533.jpg', 'imagew': 450, 'imageh': 308, 'face_locations': [{'x': 0.34179457333333335, 'y': 0.528944487012987, 'w': 0.3357841555555555, 'h': 0.8227752402597402, 'category': 0}]}\n"
     ]
    },
    {
     "ename": "KeyboardInterrupt",
     "evalue": "",
     "output_type": "error",
     "traceback": [
      "\u001b[0;31m---------------------------------------------------------------------------\u001b[0m",
      "\u001b[0;31mKeyboardInterrupt\u001b[0m                         Traceback (most recent call last)",
      "\u001b[0;32m<ipython-input-49-80a4448230fa>\u001b[0m in \u001b[0;36m<module>\u001b[0;34m\u001b[0m\n\u001b[1;32m      4\u001b[0m         \u001b[0;32mcontinue\u001b[0m\u001b[0;34m\u001b[0m\u001b[0;34m\u001b[0m\u001b[0m\n\u001b[1;32m      5\u001b[0m \u001b[0;34m\u001b[0m\u001b[0m\n\u001b[0;32m----> 6\u001b[0;31m     \u001b[0;32mfor\u001b[0m \u001b[0mbox\u001b[0m \u001b[0;32min\u001b[0m \u001b[0mgenerate_fddb_json_annotations\u001b[0m\u001b[0;34m(\u001b[0m\u001b[0mtf\u001b[0m\u001b[0;34m.\u001b[0m\u001b[0mextractfile\u001b[0m\u001b[0;34m(\u001b[0m\u001b[0mf\u001b[0m\u001b[0;34m)\u001b[0m\u001b[0;34m,\u001b[0m \u001b[0mimages\u001b[0m\u001b[0;34m)\u001b[0m\u001b[0;34m:\u001b[0m\u001b[0;34m\u001b[0m\u001b[0;34m\u001b[0m\u001b[0m\n\u001b[0m\u001b[1;32m      7\u001b[0m         \u001b[0mprint\u001b[0m\u001b[0;34m(\u001b[0m\u001b[0mbox\u001b[0m\u001b[0;34m)\u001b[0m\u001b[0;34m\u001b[0m\u001b[0;34m\u001b[0m\u001b[0m\n",
      "\u001b[0;32m<ipython-input-47-482db2be2c9b>\u001b[0m in \u001b[0;36mgenerate_fddb_json_annotations\u001b[0;34m(annotations_file_content, images_tarpath)\u001b[0m\n\u001b[1;32m     12\u001b[0m \u001b[0;34m\u001b[0m\u001b[0m\n\u001b[1;32m     13\u001b[0m         \u001b[0;32mif\u001b[0m \u001b[0mcurrent_state\u001b[0m \u001b[0;34m==\u001b[0m \u001b[0mFDDB_Parse_State\u001b[0m\u001b[0;34m.\u001b[0m\u001b[0mFILEPATH\u001b[0m\u001b[0;34m:\u001b[0m\u001b[0;34m\u001b[0m\u001b[0;34m\u001b[0m\u001b[0m\n\u001b[0;32m---> 14\u001b[0;31m             \u001b[0mimage\u001b[0m \u001b[0;34m=\u001b[0m \u001b[0mfile_to_image\u001b[0m\u001b[0;34m(\u001b[0m\u001b[0mget_file_from_tar\u001b[0m\u001b[0;34m(\u001b[0m\u001b[0mline\u001b[0m \u001b[0;34m+\u001b[0m \u001b[0;34m\".jpg\"\u001b[0m\u001b[0;34m,\u001b[0m \u001b[0mimages_tarpath\u001b[0m\u001b[0;34m)\u001b[0m\u001b[0;34m)\u001b[0m\u001b[0;34m\u001b[0m\u001b[0;34m\u001b[0m\u001b[0m\n\u001b[0m\u001b[1;32m     15\u001b[0m             \u001b[0mbase_json_annotation\u001b[0m\u001b[0;34m[\u001b[0m\u001b[0;34m'file'\u001b[0m\u001b[0;34m]\u001b[0m \u001b[0;34m=\u001b[0m \u001b[0mline\u001b[0m \u001b[0;34m+\u001b[0m \u001b[0;34m\".jpg\"\u001b[0m\u001b[0;34m\u001b[0m\u001b[0;34m\u001b[0m\u001b[0m\n\u001b[1;32m     16\u001b[0m             \u001b[0mbase_json_annotation\u001b[0m\u001b[0;34m[\u001b[0m\u001b[0;34m'imagew'\u001b[0m\u001b[0;34m]\u001b[0m \u001b[0;34m=\u001b[0m \u001b[0mimage\u001b[0m\u001b[0;34m.\u001b[0m\u001b[0msize\u001b[0m\u001b[0;34m[\u001b[0m\u001b[0;36m1\u001b[0m\u001b[0;34m]\u001b[0m\u001b[0;34m\u001b[0m\u001b[0;34m\u001b[0m\u001b[0m\n",
      "\u001b[0;32m<ipython-input-28-d03e9f4ae3e6>\u001b[0m in \u001b[0;36mget_file_from_tar\u001b[0;34m(filepath, tarpath)\u001b[0m\n\u001b[1;32m      2\u001b[0m     \u001b[0;34m'''Given a tarpath extract a file from tar'''\u001b[0m\u001b[0;34m\u001b[0m\u001b[0;34m\u001b[0m\u001b[0m\n\u001b[1;32m      3\u001b[0m     \u001b[0mtf\u001b[0m \u001b[0;34m=\u001b[0m \u001b[0mtarfile\u001b[0m\u001b[0;34m.\u001b[0m\u001b[0mopen\u001b[0m\u001b[0;34m(\u001b[0m\u001b[0mtarpath\u001b[0m\u001b[0;34m)\u001b[0m\u001b[0;34m\u001b[0m\u001b[0;34m\u001b[0m\u001b[0m\n\u001b[0;32m----> 4\u001b[0;31m     \u001b[0;32mreturn\u001b[0m \u001b[0mtf\u001b[0m\u001b[0;34m.\u001b[0m\u001b[0mextractfile\u001b[0m\u001b[0;34m(\u001b[0m\u001b[0mfilepath\u001b[0m\u001b[0;34m)\u001b[0m\u001b[0;34m\u001b[0m\u001b[0;34m\u001b[0m\u001b[0m\n\u001b[0m",
      "\u001b[0;32m/opt/conda/envs/self2face-gpu/lib/python3.6/tarfile.py\u001b[0m in \u001b[0;36mextractfile\u001b[0;34m(self, member)\u001b[0m\n\u001b[1;32m   2074\u001b[0m \u001b[0;34m\u001b[0m\u001b[0m\n\u001b[1;32m   2075\u001b[0m         \u001b[0;32mif\u001b[0m \u001b[0misinstance\u001b[0m\u001b[0;34m(\u001b[0m\u001b[0mmember\u001b[0m\u001b[0;34m,\u001b[0m \u001b[0mstr\u001b[0m\u001b[0;34m)\u001b[0m\u001b[0;34m:\u001b[0m\u001b[0;34m\u001b[0m\u001b[0;34m\u001b[0m\u001b[0m\n\u001b[0;32m-> 2076\u001b[0;31m             \u001b[0mtarinfo\u001b[0m \u001b[0;34m=\u001b[0m \u001b[0mself\u001b[0m\u001b[0;34m.\u001b[0m\u001b[0mgetmember\u001b[0m\u001b[0;34m(\u001b[0m\u001b[0mmember\u001b[0m\u001b[0;34m)\u001b[0m\u001b[0;34m\u001b[0m\u001b[0;34m\u001b[0m\u001b[0m\n\u001b[0m\u001b[1;32m   2077\u001b[0m         \u001b[0;32melse\u001b[0m\u001b[0;34m:\u001b[0m\u001b[0;34m\u001b[0m\u001b[0;34m\u001b[0m\u001b[0m\n\u001b[1;32m   2078\u001b[0m             \u001b[0mtarinfo\u001b[0m \u001b[0;34m=\u001b[0m \u001b[0mmember\u001b[0m\u001b[0;34m\u001b[0m\u001b[0;34m\u001b[0m\u001b[0m\n",
      "\u001b[0;32m/opt/conda/envs/self2face-gpu/lib/python3.6/tarfile.py\u001b[0m in \u001b[0;36mgetmember\u001b[0;34m(self, name)\u001b[0m\n\u001b[1;32m   1748\u001b[0m            \u001b[0mmost\u001b[0m \u001b[0mup\u001b[0m\u001b[0;34m-\u001b[0m\u001b[0mto\u001b[0m\u001b[0;34m-\u001b[0m\u001b[0mdate\u001b[0m \u001b[0mversion\u001b[0m\u001b[0;34m.\u001b[0m\u001b[0;34m\u001b[0m\u001b[0;34m\u001b[0m\u001b[0m\n\u001b[1;32m   1749\u001b[0m         \"\"\"\n\u001b[0;32m-> 1750\u001b[0;31m         \u001b[0mtarinfo\u001b[0m \u001b[0;34m=\u001b[0m \u001b[0mself\u001b[0m\u001b[0;34m.\u001b[0m\u001b[0m_getmember\u001b[0m\u001b[0;34m(\u001b[0m\u001b[0mname\u001b[0m\u001b[0;34m)\u001b[0m\u001b[0;34m\u001b[0m\u001b[0;34m\u001b[0m\u001b[0m\n\u001b[0m\u001b[1;32m   1751\u001b[0m         \u001b[0;32mif\u001b[0m \u001b[0mtarinfo\u001b[0m \u001b[0;32mis\u001b[0m \u001b[0;32mNone\u001b[0m\u001b[0;34m:\u001b[0m\u001b[0;34m\u001b[0m\u001b[0;34m\u001b[0m\u001b[0m\n\u001b[1;32m   1752\u001b[0m             \u001b[0;32mraise\u001b[0m \u001b[0mKeyError\u001b[0m\u001b[0;34m(\u001b[0m\u001b[0;34m\"filename %r not found\"\u001b[0m \u001b[0;34m%\u001b[0m \u001b[0mname\u001b[0m\u001b[0;34m)\u001b[0m\u001b[0;34m\u001b[0m\u001b[0;34m\u001b[0m\u001b[0m\n",
      "\u001b[0;32m/opt/conda/envs/self2face-gpu/lib/python3.6/tarfile.py\u001b[0m in \u001b[0;36m_getmember\u001b[0;34m(self, name, tarinfo, normalize)\u001b[0m\n\u001b[1;32m   2333\u001b[0m         \"\"\"\n\u001b[1;32m   2334\u001b[0m         \u001b[0;31m# Ensure that all members have been loaded.\u001b[0m\u001b[0;34m\u001b[0m\u001b[0;34m\u001b[0m\u001b[0;34m\u001b[0m\u001b[0m\n\u001b[0;32m-> 2335\u001b[0;31m         \u001b[0mmembers\u001b[0m \u001b[0;34m=\u001b[0m \u001b[0mself\u001b[0m\u001b[0;34m.\u001b[0m\u001b[0mgetmembers\u001b[0m\u001b[0;34m(\u001b[0m\u001b[0;34m)\u001b[0m\u001b[0;34m\u001b[0m\u001b[0;34m\u001b[0m\u001b[0m\n\u001b[0m\u001b[1;32m   2336\u001b[0m \u001b[0;34m\u001b[0m\u001b[0m\n\u001b[1;32m   2337\u001b[0m         \u001b[0;31m# Limit the member search list up to tarinfo.\u001b[0m\u001b[0;34m\u001b[0m\u001b[0;34m\u001b[0m\u001b[0;34m\u001b[0m\u001b[0m\n",
      "\u001b[0;32m/opt/conda/envs/self2face-gpu/lib/python3.6/tarfile.py\u001b[0m in \u001b[0;36mgetmembers\u001b[0;34m(self)\u001b[0m\n\u001b[1;32m   1759\u001b[0m         \u001b[0mself\u001b[0m\u001b[0;34m.\u001b[0m\u001b[0m_check\u001b[0m\u001b[0;34m(\u001b[0m\u001b[0;34m)\u001b[0m\u001b[0;34m\u001b[0m\u001b[0;34m\u001b[0m\u001b[0m\n\u001b[1;32m   1760\u001b[0m         \u001b[0;32mif\u001b[0m \u001b[0;32mnot\u001b[0m \u001b[0mself\u001b[0m\u001b[0;34m.\u001b[0m\u001b[0m_loaded\u001b[0m\u001b[0;34m:\u001b[0m    \u001b[0;31m# if we want to obtain a list of\u001b[0m\u001b[0;34m\u001b[0m\u001b[0;34m\u001b[0m\u001b[0m\n\u001b[0;32m-> 1761\u001b[0;31m             \u001b[0mself\u001b[0m\u001b[0;34m.\u001b[0m\u001b[0m_load\u001b[0m\u001b[0;34m(\u001b[0m\u001b[0;34m)\u001b[0m        \u001b[0;31m# all members, we first have to\u001b[0m\u001b[0;34m\u001b[0m\u001b[0;34m\u001b[0m\u001b[0m\n\u001b[0m\u001b[1;32m   1762\u001b[0m                                 \u001b[0;31m# scan the whole archive.\u001b[0m\u001b[0;34m\u001b[0m\u001b[0;34m\u001b[0m\u001b[0;34m\u001b[0m\u001b[0m\n\u001b[1;32m   1763\u001b[0m         \u001b[0;32mreturn\u001b[0m \u001b[0mself\u001b[0m\u001b[0;34m.\u001b[0m\u001b[0mmembers\u001b[0m\u001b[0;34m\u001b[0m\u001b[0;34m\u001b[0m\u001b[0m\n",
      "\u001b[0;32m/opt/conda/envs/self2face-gpu/lib/python3.6/tarfile.py\u001b[0m in \u001b[0;36m_load\u001b[0;34m(self)\u001b[0m\n\u001b[1;32m   2356\u001b[0m         \"\"\"\n\u001b[1;32m   2357\u001b[0m         \u001b[0;32mwhile\u001b[0m \u001b[0;32mTrue\u001b[0m\u001b[0;34m:\u001b[0m\u001b[0;34m\u001b[0m\u001b[0;34m\u001b[0m\u001b[0m\n\u001b[0;32m-> 2358\u001b[0;31m             \u001b[0mtarinfo\u001b[0m \u001b[0;34m=\u001b[0m \u001b[0mself\u001b[0m\u001b[0;34m.\u001b[0m\u001b[0mnext\u001b[0m\u001b[0;34m(\u001b[0m\u001b[0;34m)\u001b[0m\u001b[0;34m\u001b[0m\u001b[0;34m\u001b[0m\u001b[0m\n\u001b[0m\u001b[1;32m   2359\u001b[0m             \u001b[0;32mif\u001b[0m \u001b[0mtarinfo\u001b[0m \u001b[0;32mis\u001b[0m \u001b[0;32mNone\u001b[0m\u001b[0;34m:\u001b[0m\u001b[0;34m\u001b[0m\u001b[0;34m\u001b[0m\u001b[0m\n\u001b[1;32m   2360\u001b[0m                 \u001b[0;32mbreak\u001b[0m\u001b[0;34m\u001b[0m\u001b[0;34m\u001b[0m\u001b[0m\n",
      "\u001b[0;32m/opt/conda/envs/self2face-gpu/lib/python3.6/tarfile.py\u001b[0m in \u001b[0;36mnext\u001b[0;34m(self)\u001b[0m\n\u001b[1;32m   2287\u001b[0m         \u001b[0;31m# Advance the file pointer.\u001b[0m\u001b[0;34m\u001b[0m\u001b[0;34m\u001b[0m\u001b[0;34m\u001b[0m\u001b[0m\n\u001b[1;32m   2288\u001b[0m         \u001b[0;32mif\u001b[0m \u001b[0mself\u001b[0m\u001b[0;34m.\u001b[0m\u001b[0moffset\u001b[0m \u001b[0;34m!=\u001b[0m \u001b[0mself\u001b[0m\u001b[0;34m.\u001b[0m\u001b[0mfileobj\u001b[0m\u001b[0;34m.\u001b[0m\u001b[0mtell\u001b[0m\u001b[0;34m(\u001b[0m\u001b[0;34m)\u001b[0m\u001b[0;34m:\u001b[0m\u001b[0;34m\u001b[0m\u001b[0;34m\u001b[0m\u001b[0m\n\u001b[0;32m-> 2289\u001b[0;31m             \u001b[0mself\u001b[0m\u001b[0;34m.\u001b[0m\u001b[0mfileobj\u001b[0m\u001b[0;34m.\u001b[0m\u001b[0mseek\u001b[0m\u001b[0;34m(\u001b[0m\u001b[0mself\u001b[0m\u001b[0;34m.\u001b[0m\u001b[0moffset\u001b[0m \u001b[0;34m-\u001b[0m \u001b[0;36m1\u001b[0m\u001b[0;34m)\u001b[0m\u001b[0;34m\u001b[0m\u001b[0;34m\u001b[0m\u001b[0m\n\u001b[0m\u001b[1;32m   2290\u001b[0m             \u001b[0;32mif\u001b[0m \u001b[0;32mnot\u001b[0m \u001b[0mself\u001b[0m\u001b[0;34m.\u001b[0m\u001b[0mfileobj\u001b[0m\u001b[0;34m.\u001b[0m\u001b[0mread\u001b[0m\u001b[0;34m(\u001b[0m\u001b[0;36m1\u001b[0m\u001b[0;34m)\u001b[0m\u001b[0;34m:\u001b[0m\u001b[0;34m\u001b[0m\u001b[0;34m\u001b[0m\u001b[0m\n\u001b[1;32m   2291\u001b[0m                 \u001b[0;32mraise\u001b[0m \u001b[0mReadError\u001b[0m\u001b[0;34m(\u001b[0m\u001b[0;34m\"unexpected end of data\"\u001b[0m\u001b[0;34m)\u001b[0m\u001b[0;34m\u001b[0m\u001b[0;34m\u001b[0m\u001b[0m\n",
      "\u001b[0;32m/opt/conda/envs/self2face-gpu/lib/python3.6/gzip.py\u001b[0m in \u001b[0;36mseek\u001b[0;34m(self, offset, whence)\u001b[0m\n\u001b[1;32m    366\u001b[0m         \u001b[0;32melif\u001b[0m \u001b[0mself\u001b[0m\u001b[0;34m.\u001b[0m\u001b[0mmode\u001b[0m \u001b[0;34m==\u001b[0m \u001b[0mREAD\u001b[0m\u001b[0;34m:\u001b[0m\u001b[0;34m\u001b[0m\u001b[0;34m\u001b[0m\u001b[0m\n\u001b[1;32m    367\u001b[0m             \u001b[0mself\u001b[0m\u001b[0;34m.\u001b[0m\u001b[0m_check_not_closed\u001b[0m\u001b[0;34m(\u001b[0m\u001b[0;34m)\u001b[0m\u001b[0;34m\u001b[0m\u001b[0;34m\u001b[0m\u001b[0m\n\u001b[0;32m--> 368\u001b[0;31m             \u001b[0;32mreturn\u001b[0m \u001b[0mself\u001b[0m\u001b[0;34m.\u001b[0m\u001b[0m_buffer\u001b[0m\u001b[0;34m.\u001b[0m\u001b[0mseek\u001b[0m\u001b[0;34m(\u001b[0m\u001b[0moffset\u001b[0m\u001b[0;34m,\u001b[0m \u001b[0mwhence\u001b[0m\u001b[0;34m)\u001b[0m\u001b[0;34m\u001b[0m\u001b[0;34m\u001b[0m\u001b[0m\n\u001b[0m\u001b[1;32m    369\u001b[0m \u001b[0;34m\u001b[0m\u001b[0m\n\u001b[1;32m    370\u001b[0m         \u001b[0;32mreturn\u001b[0m \u001b[0mself\u001b[0m\u001b[0;34m.\u001b[0m\u001b[0moffset\u001b[0m\u001b[0;34m\u001b[0m\u001b[0;34m\u001b[0m\u001b[0m\n",
      "\u001b[0;32m/opt/conda/envs/self2face-gpu/lib/python3.6/_compression.py\u001b[0m in \u001b[0;36mseek\u001b[0;34m(self, offset, whence)\u001b[0m\n\u001b[1;32m    141\u001b[0m         \u001b[0;31m# Read and discard data until we reach the desired position.\u001b[0m\u001b[0;34m\u001b[0m\u001b[0;34m\u001b[0m\u001b[0;34m\u001b[0m\u001b[0m\n\u001b[1;32m    142\u001b[0m         \u001b[0;32mwhile\u001b[0m \u001b[0moffset\u001b[0m \u001b[0;34m>\u001b[0m \u001b[0;36m0\u001b[0m\u001b[0;34m:\u001b[0m\u001b[0;34m\u001b[0m\u001b[0;34m\u001b[0m\u001b[0m\n\u001b[0;32m--> 143\u001b[0;31m             \u001b[0mdata\u001b[0m \u001b[0;34m=\u001b[0m \u001b[0mself\u001b[0m\u001b[0;34m.\u001b[0m\u001b[0mread\u001b[0m\u001b[0;34m(\u001b[0m\u001b[0mmin\u001b[0m\u001b[0;34m(\u001b[0m\u001b[0mio\u001b[0m\u001b[0;34m.\u001b[0m\u001b[0mDEFAULT_BUFFER_SIZE\u001b[0m\u001b[0;34m,\u001b[0m \u001b[0moffset\u001b[0m\u001b[0;34m)\u001b[0m\u001b[0;34m)\u001b[0m\u001b[0;34m\u001b[0m\u001b[0;34m\u001b[0m\u001b[0m\n\u001b[0m\u001b[1;32m    144\u001b[0m             \u001b[0;32mif\u001b[0m \u001b[0;32mnot\u001b[0m \u001b[0mdata\u001b[0m\u001b[0;34m:\u001b[0m\u001b[0;34m\u001b[0m\u001b[0;34m\u001b[0m\u001b[0m\n\u001b[1;32m    145\u001b[0m                 \u001b[0;32mbreak\u001b[0m\u001b[0;34m\u001b[0m\u001b[0;34m\u001b[0m\u001b[0m\n",
      "\u001b[0;32m/opt/conda/envs/self2face-gpu/lib/python3.6/gzip.py\u001b[0m in \u001b[0;36mread\u001b[0;34m(self, size)\u001b[0m\n\u001b[1;32m    467\u001b[0m \u001b[0;34m\u001b[0m\u001b[0m\n\u001b[1;32m    468\u001b[0m             \u001b[0;31m# Read a chunk of data from the file\u001b[0m\u001b[0;34m\u001b[0m\u001b[0;34m\u001b[0m\u001b[0;34m\u001b[0m\u001b[0m\n\u001b[0;32m--> 469\u001b[0;31m             \u001b[0mbuf\u001b[0m \u001b[0;34m=\u001b[0m \u001b[0mself\u001b[0m\u001b[0;34m.\u001b[0m\u001b[0m_fp\u001b[0m\u001b[0;34m.\u001b[0m\u001b[0mread\u001b[0m\u001b[0;34m(\u001b[0m\u001b[0mio\u001b[0m\u001b[0;34m.\u001b[0m\u001b[0mDEFAULT_BUFFER_SIZE\u001b[0m\u001b[0;34m)\u001b[0m\u001b[0;34m\u001b[0m\u001b[0;34m\u001b[0m\u001b[0m\n\u001b[0m\u001b[1;32m    470\u001b[0m \u001b[0;34m\u001b[0m\u001b[0m\n\u001b[1;32m    471\u001b[0m             \u001b[0muncompress\u001b[0m \u001b[0;34m=\u001b[0m \u001b[0mself\u001b[0m\u001b[0;34m.\u001b[0m\u001b[0m_decompressor\u001b[0m\u001b[0;34m.\u001b[0m\u001b[0mdecompress\u001b[0m\u001b[0;34m(\u001b[0m\u001b[0mbuf\u001b[0m\u001b[0;34m,\u001b[0m \u001b[0msize\u001b[0m\u001b[0;34m)\u001b[0m\u001b[0;34m\u001b[0m\u001b[0;34m\u001b[0m\u001b[0m\n",
      "\u001b[0;32m/opt/conda/envs/self2face-gpu/lib/python3.6/gzip.py\u001b[0m in \u001b[0;36mread\u001b[0;34m(self, size)\u001b[0m\n\u001b[1;32m     89\u001b[0m             \u001b[0mself\u001b[0m\u001b[0;34m.\u001b[0m\u001b[0m_read\u001b[0m \u001b[0;34m=\u001b[0m \u001b[0;32mNone\u001b[0m\u001b[0;34m\u001b[0m\u001b[0;34m\u001b[0m\u001b[0m\n\u001b[1;32m     90\u001b[0m             \u001b[0;32mreturn\u001b[0m \u001b[0mself\u001b[0m\u001b[0;34m.\u001b[0m\u001b[0m_buffer\u001b[0m\u001b[0;34m[\u001b[0m\u001b[0mread\u001b[0m\u001b[0;34m:\u001b[0m\u001b[0;34m]\u001b[0m \u001b[0;34m+\u001b[0m\u001b[0;31m \u001b[0m\u001b[0;31m\\\u001b[0m\u001b[0;34m\u001b[0m\u001b[0;34m\u001b[0m\u001b[0m\n\u001b[0;32m---> 91\u001b[0;31m                    \u001b[0mself\u001b[0m\u001b[0;34m.\u001b[0m\u001b[0mfile\u001b[0m\u001b[0;34m.\u001b[0m\u001b[0mread\u001b[0m\u001b[0;34m(\u001b[0m\u001b[0msize\u001b[0m\u001b[0;34m-\u001b[0m\u001b[0mself\u001b[0m\u001b[0;34m.\u001b[0m\u001b[0m_length\u001b[0m\u001b[0;34m+\u001b[0m\u001b[0mread\u001b[0m\u001b[0;34m)\u001b[0m\u001b[0;34m\u001b[0m\u001b[0;34m\u001b[0m\u001b[0m\n\u001b[0m\u001b[1;32m     92\u001b[0m \u001b[0;34m\u001b[0m\u001b[0m\n\u001b[1;32m     93\u001b[0m     \u001b[0;32mdef\u001b[0m \u001b[0mprepend\u001b[0m\u001b[0;34m(\u001b[0m\u001b[0mself\u001b[0m\u001b[0;34m,\u001b[0m \u001b[0mprepend\u001b[0m\u001b[0;34m=\u001b[0m\u001b[0;34mb''\u001b[0m\u001b[0;34m)\u001b[0m\u001b[0;34m:\u001b[0m\u001b[0;34m\u001b[0m\u001b[0;34m\u001b[0m\u001b[0m\n",
      "\u001b[0;31mKeyboardInterrupt\u001b[0m: "
     ]
    }
   ],
   "source": [
    "tf = tarfile.open(annotations)\n",
    "for f in tf:\n",
    "    if \"ellipse\" not in f.name:\n",
    "        continue\n",
    "                \n",
    "    for box in generate_fddb_json_annotations(tf.extractfile(f), images):\n",
    "        print(box)"
   ]
  },
  {
   "cell_type": "code",
   "execution_count": null,
   "metadata": {},
   "outputs": [],
   "source": []
  }
 ],
 "metadata": {
  "kernelspec": {
   "display_name": "Python 3",
   "language": "python",
   "name": "python3"
  },
  "language_info": {
   "codemirror_mode": {
    "name": "ipython",
    "version": 3
   },
   "file_extension": ".py",
   "mimetype": "text/x-python",
   "name": "python",
   "nbconvert_exporter": "python",
   "pygments_lexer": "ipython3",
   "version": "3.6.7"
  }
 },
 "nbformat": 4,
 "nbformat_minor": 2
}
