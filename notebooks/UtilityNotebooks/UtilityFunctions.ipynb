{
 "cells": [
  {
   "cell_type": "markdown",
   "metadata": {},
   "source": [
    "## Utility functions\n",
    "\n",
    "In this notebook we will be defining generic utility functions to use in the other notebooks of this project.\n",
    "\n",
    "## Functions\n",
    "\n",
    "* dotdict\n",
    "* no run magic"
   ]
  },
  {
   "cell_type": "markdown",
   "metadata": {},
   "source": [
    "## dotdict\n",
    "\n",
    "This class is a simple wrapper around python dictionaries but to access attributes via the `__setattr__` method which adds more strict functionality about how to access attributes beyond strings which are programmatically defined and attributes which are programmer defined. "
   ]
  },
  {
   "cell_type": "code",
   "execution_count": 2,
   "metadata": {},
   "outputs": [],
   "source": [
    "class dotdict(dict):\n",
    "    \"\"\"dot.notation access to dictionary attributes\"\"\"\n",
    "    __getattr__ = dict.get\n",
    "    __setattr__ = dict.__setitem__\n",
    "    __delattr__ = dict.__delitem__"
   ]
  },
  {
   "cell_type": "markdown",
   "metadata": {},
   "source": [
    "#### Examples"
   ]
  },
  {
   "cell_type": "code",
   "execution_count": 7,
   "metadata": {},
   "outputs": [
    {
     "name": "stdout",
     "output_type": "stream",
     "text": [
      "0 0\n",
      "1 1\n",
      "2 2\n"
     ]
    }
   ],
   "source": [
    "d = dotdict({\"a\":0,\"b\":1,\"c\":2})\n",
    "\n",
    "print(d.a, d['a'])\n",
    "print(d.b, d['b'])\n",
    "print(d.c, d['c'])"
   ]
  },
  {
   "cell_type": "markdown",
   "metadata": {},
   "source": [
    "## norun magic\n",
    "\n",
    "This is a cell magic to not run a cell by default unless an environment variable `\"DISABLE_NORUN\"` is set or the line argument is equal to 'no','norun', or v'pass'"
   ]
  },
  {
   "cell_type": "code",
   "execution_count": 48,
   "metadata": {},
   "outputs": [],
   "source": [
    "import os\n",
    "from IPython.core.magic import Magics, magics_class, cell_magic\n",
    "\n",
    "@magics_class\n",
    "class norun(Magics):\n",
    "    @cell_magic\n",
    "    def norun(self, line='', cell=None):\n",
    "        if (\"DISABLE_NORUN\" in os.environ) or\\\n",
    "           ((line.split() if len(line.split())>0 else [''])[0].lower() in\\\n",
    "            ('no','norun','pass')):\n",
    "            return\n",
    "        self.shell.ex(cell)\n",
    "        \n",
    "def setup_norun():\n",
    "    ip= get_ipython()\n",
    "    ip.register_magics(norun)"
   ]
  },
  {
   "cell_type": "markdown",
   "metadata": {},
   "source": [
    "## camel_to_snake"
   ]
  },
  {
   "cell_type": "code",
   "execution_count": 49,
   "metadata": {},
   "outputs": [],
   "source": [
    "import re\n",
    "\n",
    "def camel_to_snake(name):\n",
    "    s1 = re.sub('(.)([A-Z][a-z]+)', r'\\1_\\2', name)\n",
    "    return re.sub('([a-z0-9])([A-Z])', r'\\1_\\2', s1).lower()"
   ]
  },
  {
   "cell_type": "markdown",
   "metadata": {},
   "source": [
    "## latest_dir"
   ]
  },
  {
   "cell_type": "code",
   "execution_count": 50,
   "metadata": {},
   "outputs": [],
   "source": [
    "def latest_dir(input_dir):\n",
    "    return max(glob.glob(os.path.join(input_dir, '*/')), key=os.path.getmtime)"
   ]
  },
  {
   "cell_type": "markdown",
   "metadata": {},
   "source": [
    "## search_path_by_url"
   ]
  },
  {
   "cell_type": "code",
   "execution_count": 51,
   "metadata": {},
   "outputs": [],
   "source": [
    "def search_path_by_url(url, base_dir=\"./data\"):\n",
    "    base_download_filename = os.path.basename(url)\n",
    "    for (dirpath, dirnames, filenames) in os.walk(base_dir):\n",
    "        if base_download_filename in filenames:\n",
    "            downloaded_filepath = os.path.join(dirpath, filenames[0])\n",
    "            break\n",
    "    return downloaded_filepath"
   ]
  },
  {
   "cell_type": "markdown",
   "metadata": {},
   "source": [
    "## write_file_to_filepath"
   ]
  },
  {
   "cell_type": "code",
   "execution_count": null,
   "metadata": {},
   "outputs": [],
   "source": [
    "def write_file_to_filepath(fileobj, filepath):\n",
    "    if not os.path.exists(os.path.dirname(filepath)):\n",
    "        try:\n",
    "            os.makedirs(os.path.dirname(filepath))\n",
    "        except OSError as exc: # Guard against race condition\n",
    "            if exc.errno != errno.EEXIST:\n",
    "                raise\n",
    "\n",
    "    with open(filepath, \"wb\") as f:\n",
    "        f.write(fileobj.read())\n",
    "        \n",
    "    return filepath"
   ]
  }
 ],
 "metadata": {
  "kernelspec": {
   "display_name": "Python 3",
   "language": "python",
   "name": "python3"
  },
  "language_info": {
   "codemirror_mode": {
    "name": "ipython",
    "version": 3
   },
   "file_extension": ".py",
   "mimetype": "text/x-python",
   "name": "python",
   "nbconvert_exporter": "python",
   "pygments_lexer": "ipython3",
   "version": "3.6.7"
  }
 },
 "nbformat": 4,
 "nbformat_minor": 2
}
